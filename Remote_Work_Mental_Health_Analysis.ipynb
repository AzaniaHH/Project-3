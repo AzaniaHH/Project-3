{
 "cells": [
  {
   "cell_type": "code",
   "execution_count": 2,
   "metadata": {},
   "outputs": [
    {
     "name": "stdout",
     "output_type": "stream",
     "text": [
      "Data loaded successfully!\n"
     ]
    }
   ],
   "source": [
    "import pandas as pd\n",
    "from pymongo import MongoClient\n",
    "import seaborn as sns\n",
    "import matplotlib.pyplot as plt\n",
    "\n",
    "\n",
    "\n",
    "# Load the dataset\n",
    "data = pd.read_csv('Resources/Impact_of_Remote_Work_on_Mental_Health.csv')  # Update with your dataset path\n",
    "\n",
    "# Connect to MongoDB\n",
    "client = MongoClient('mongodb://localhost:27017/')\n",
    "db = client['remote_work_db']  # Create a new database\n",
    "collection = db['mental_health']  # Create a new collection\n",
    "\n",
    "# Insert data into MongoDB\n",
    "collection.insert_many(data.to_dict('records'))\n",
    "\n",
    "print(\"Data loaded successfully!\")\n"
   ]
  },
  {
   "cell_type": "code",
   "execution_count": 3,
   "metadata": {},
   "outputs": [
    {
     "name": "stdout",
     "output_type": "stream",
     "text": [
      "<class 'pandas.core.frame.DataFrame'>\n",
      "RangeIndex: 25000 entries, 0 to 24999\n",
      "Data columns (total 21 columns):\n",
      " #   Column                             Non-Null Count  Dtype \n",
      "---  ------                             --------------  ----- \n",
      " 0   _id                                25000 non-null  object\n",
      " 1   Employee_ID                        25000 non-null  object\n",
      " 2   Age                                25000 non-null  int64 \n",
      " 3   Gender                             25000 non-null  object\n",
      " 4   Job_Role                           25000 non-null  object\n",
      " 5   Industry                           25000 non-null  object\n",
      " 6   Years_of_Experience                25000 non-null  int64 \n",
      " 7   Work_Location                      25000 non-null  object\n",
      " 8   Hours_Worked_Per_Week              25000 non-null  int64 \n",
      " 9   Number_of_Virtual_Meetings         25000 non-null  int64 \n",
      " 10  Work_Life_Balance_Rating           25000 non-null  int64 \n",
      " 11  Stress_Level                       25000 non-null  object\n",
      " 12  Mental_Health_Condition            19020 non-null  object\n",
      " 13  Access_to_Mental_Health_Resources  25000 non-null  object\n",
      " 14  Productivity_Change                25000 non-null  object\n",
      " 15  Social_Isolation_Rating            25000 non-null  int64 \n",
      " 16  Satisfaction_with_Remote_Work      25000 non-null  object\n",
      " 17  Company_Support_for_Remote_Work    25000 non-null  int64 \n",
      " 18  Physical_Activity                  16855 non-null  object\n",
      " 19  Sleep_Quality                      25000 non-null  object\n",
      " 20  Region                             25000 non-null  object\n",
      "dtypes: int64(7), object(14)\n",
      "memory usage: 4.0+ MB\n",
      "None\n"
     ]
    }
   ],
   "source": [
    "# Retrieve data from MongoDB\n",
    "data = pd.DataFrame(list(collection.find()))\n",
    "\n",
    "# Display initial data info\n",
    "print(data.info())"
   ]
  },
  {
   "cell_type": "code",
   "execution_count": 4,
   "metadata": {},
   "outputs": [
    {
     "name": "stdout",
     "output_type": "stream",
     "text": [
      "Mental_Health_Condition    5980\n",
      "Physical_Activity          8145\n",
      "dtype: int64\n"
     ]
    }
   ],
   "source": [
    "missing_count = data.isnull().sum()\n",
    "print(missing_count[missing_count > 0]) "
   ]
  },
  {
   "cell_type": "code",
   "execution_count": 5,
   "metadata": {},
   "outputs": [
    {
     "name": "stdout",
     "output_type": "stream",
     "text": [
      "['Depression' 'Anxiety' nan 'Burnout']\n"
     ]
    }
   ],
   "source": [
    "# Display unique values in the Mental_Health_Condition column\n",
    "unique_conditions = data['Mental_Health_Condition'].unique()\n",
    "print(unique_conditions)\n"
   ]
  },
  {
   "cell_type": "code",
   "execution_count": 6,
   "metadata": {},
   "outputs": [],
   "source": [
    "# Replace nan values with 'None'\n",
    "data['Mental_Health_Condition'] = data['Mental_Health_Condition'].fillna('None')\n",
    "\n"
   ]
  },
  {
   "cell_type": "code",
   "execution_count": 7,
   "metadata": {},
   "outputs": [
    {
     "name": "stdout",
     "output_type": "stream",
     "text": [
      "['Weekly' nan 'Daily']\n"
     ]
    }
   ],
   "source": [
    "# Display unique values in the Physical_Activity column\n",
    "unique_conditions = data['Physical_Activity'].unique()\n",
    "print(unique_conditions)"
   ]
  },
  {
   "cell_type": "code",
   "execution_count": 8,
   "metadata": {},
   "outputs": [],
   "source": [
    "# Replace nan values with 'None'\n",
    "data['Physical_Activity'] = data['Physical_Activity'].fillna('None')"
   ]
  },
  {
   "cell_type": "code",
   "execution_count": 9,
   "metadata": {},
   "outputs": [
    {
     "name": "stdout",
     "output_type": "stream",
     "text": [
      "Unique counts for Mental Health Conditions:\n",
      "  Mental_Health_Condition  Unique_Employee_Count\n",
      "0                 Anxiety                   1278\n",
      "1                 Burnout                   1280\n",
      "2              Depression                   1246\n",
      "3                    None                   1196\n",
      "\n",
      "Unique counts for Physical Activity:\n",
      "  Physical_Activity  Unique_Employee_Count\n",
      "0             Daily                   1616\n",
      "1              None                   1629\n",
      "2            Weekly                   1755\n"
     ]
    }
   ],
   "source": [
    "# Count unique occurrences for each mental health condition\n",
    "mental_health_unique_counts = data.groupby('Mental_Health_Condition')['Employee_ID'].nunique().reset_index()\n",
    "mental_health_unique_counts.columns = ['Mental_Health_Condition', 'Unique_Employee_Count']\n",
    "\n",
    "# Count unique occurrences for each physical activity status\n",
    "physical_activity_unique_counts = data.groupby('Physical_Activity')['Employee_ID'].nunique().reset_index()\n",
    "physical_activity_unique_counts.columns = ['Physical_Activity', 'Unique_Employee_Count']\n",
    "\n",
    "# Display results\n",
    "print(\"Unique counts for Mental Health Conditions:\")\n",
    "print(mental_health_unique_counts)\n",
    "\n",
    "print(\"\\nUnique counts for Physical Activity:\")\n",
    "print(physical_activity_unique_counts)\n"
   ]
  },
  {
   "cell_type": "code",
   "execution_count": 10,
   "metadata": {},
   "outputs": [
    {
     "name": "stdout",
     "output_type": "stream",
     "text": [
      "_id                                  0\n",
      "Employee_ID                          0\n",
      "Age                                  0\n",
      "Gender                               0\n",
      "Job_Role                             0\n",
      "Industry                             0\n",
      "Years_of_Experience                  0\n",
      "Work_Location                        0\n",
      "Hours_Worked_Per_Week                0\n",
      "Number_of_Virtual_Meetings           0\n",
      "Work_Life_Balance_Rating             0\n",
      "Stress_Level                         0\n",
      "Mental_Health_Condition              0\n",
      "Access_to_Mental_Health_Resources    0\n",
      "Productivity_Change                  0\n",
      "Social_Isolation_Rating              0\n",
      "Satisfaction_with_Remote_Work        0\n",
      "Company_Support_for_Remote_Work      0\n",
      "Physical_Activity                    0\n",
      "Sleep_Quality                        0\n",
      "Region                               0\n",
      "dtype: int64\n"
     ]
    }
   ],
   "source": [
    "# Check for missing values\n",
    "print(data.isnull().sum())"
   ]
  },
  {
   "cell_type": "code",
   "execution_count": 11,
   "metadata": {},
   "outputs": [
    {
     "name": "stdout",
     "output_type": "stream",
     "text": [
      "Number of duplicate records: 0\n"
     ]
    }
   ],
   "source": [
    "# Check for duplicates\n",
    "duplicates = data.duplicated().sum()\n",
    "print(f\"Number of duplicate records: {duplicates}\")"
   ]
  },
  {
   "cell_type": "code",
   "execution_count": 12,
   "metadata": {},
   "outputs": [],
   "source": [
    "# Create a cleaned DataFrame\n",
    "data_cleaned = data.copy()\n",
    "\n",
    "# Reset index\n",
    "data_cleaned.reset_index(drop=True, inplace=True)"
   ]
  },
  {
   "cell_type": "code",
   "execution_count": 15,
   "metadata": {},
   "outputs": [
    {
     "name": "stdout",
     "output_type": "stream",
     "text": [
      "                Age  Years_of_Experience  Hours_Worked_Per_Week  \\\n",
      "count  25000.000000          25000.00000           25000.000000   \n",
      "mean      40.995000             17.81020              39.614600   \n",
      "std       11.295117             10.01961              11.859245   \n",
      "min       22.000000              1.00000              20.000000   \n",
      "25%       31.000000              9.00000              29.000000   \n",
      "50%       41.000000             18.00000              40.000000   \n",
      "75%       51.000000             26.00000              50.000000   \n",
      "max       60.000000             35.00000              60.000000   \n",
      "\n",
      "       Number_of_Virtual_Meetings  Work_Life_Balance_Rating  \\\n",
      "count                 25000.00000              25000.000000   \n",
      "mean                      7.55900                  2.984200   \n",
      "std                       4.63575                  1.410401   \n",
      "min                       0.00000                  1.000000   \n",
      "25%                       4.00000                  2.000000   \n",
      "50%                       8.00000                  3.000000   \n",
      "75%                      12.00000                  4.000000   \n",
      "max                      15.00000                  5.000000   \n",
      "\n",
      "       Social_Isolation_Rating  Company_Support_for_Remote_Work  \n",
      "count             25000.000000                     25000.000000  \n",
      "mean                  2.993800                         3.007800  \n",
      "std                   1.394503                         1.398934  \n",
      "min                   1.000000                         1.000000  \n",
      "25%                   2.000000                         2.000000  \n",
      "50%                   3.000000                         3.000000  \n",
      "75%                   4.000000                         4.000000  \n",
      "max                   5.000000                         5.000000  \n",
      "                             _id Employee_ID  Gender         Job_Role  \\\n",
      "count                      25000       25000   25000            25000   \n",
      "unique                     25000        5000       4                7   \n",
      "top     670fdf98fa03ca901295b42e     EMP0001  Female  Project Manager   \n",
      "freq                           1           5    6370             3690   \n",
      "\n",
      "       Industry Work_Location Stress_Level Mental_Health_Condition  \\\n",
      "count     25000         25000        25000                   25000   \n",
      "unique        7             3            3                       4   \n",
      "top     Finance        Remote         High                 Burnout   \n",
      "freq       3735          8570         8430                    6400   \n",
      "\n",
      "       Access_to_Mental_Health_Resources Productivity_Change  \\\n",
      "count                              25000               25000   \n",
      "unique                                 2                   3   \n",
      "top                                   No            Decrease   \n",
      "freq                               12765                8685   \n",
      "\n",
      "       Satisfaction_with_Remote_Work Physical_Activity Sleep_Quality   Region  \n",
      "count                          25000             25000         25000    25000  \n",
      "unique                             3                 3             3        6  \n",
      "top                      Unsatisfied            Weekly          Good  Oceania  \n",
      "freq                            8385              8775          8435     4335  \n"
     ]
    }
   ],
   "source": [
    "# Summary statistics for numerical columns\n",
    "summary_stats = data_cleaned.describe()\n",
    "print(summary_stats)\n",
    "\n",
    "# Summary statistics for categorical columns\n",
    "categorical_summary = data_cleaned.describe(include='object')\n",
    "print(categorical_summary)\n"
   ]
  }
 ],
 "metadata": {
  "kernelspec": {
   "display_name": "base",
   "language": "python",
   "name": "python3"
  },
  "language_info": {
   "codemirror_mode": {
    "name": "ipython",
    "version": 3
   },
   "file_extension": ".py",
   "mimetype": "text/x-python",
   "name": "python",
   "nbconvert_exporter": "python",
   "pygments_lexer": "ipython3",
   "version": "3.12.4"
  }
 },
 "nbformat": 4,
 "nbformat_minor": 2
}
