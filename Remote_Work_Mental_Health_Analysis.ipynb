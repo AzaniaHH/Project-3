{
 "cells": [
  {
   "cell_type": "code",
   "execution_count": null,
   "metadata": {},
   "outputs": [],
   "source": [
    "import pandas as pd\n",
    "from pymongo import MongoClient\n",
    "import seaborn as sns\n",
    "import matplotlib.pyplot as plt\n",
    "\n",
    "\n",
    "\n",
    "# Load the dataset\n",
    "data = pd.read_csv('Resources/Impact_of_Remote_Work_on_Mental_Health.csv')  # Update with your dataset path\n",
    "\n",
    "# Connect to MongoDB\n",
    "client = MongoClient('mongodb://localhost:27017/')\n",
    "db = client['remote_work_db']  # Create a new database\n",
    "collection = db['mental_health']  # Create a new collection\n",
    "\n",
    "# Insert data into MongoDB\n",
    "collection.insert_many(data.to_dict('records'))\n",
    "\n",
    "print(\"Data loaded successfully!\")\n"
   ]
  },
  {
   "cell_type": "code",
   "execution_count": null,
   "metadata": {},
   "outputs": [],
   "source": [
    "# Retrieve data from MongoDB\n",
    "data = pd.DataFrame(list(collection.find()))\n",
    "\n",
    "# Display initial data info\n",
    "print(data.info())"
   ]
  },
  {
   "cell_type": "code",
   "execution_count": null,
   "metadata": {},
   "outputs": [],
   "source": [
    "missing_count = data.isnull().sum()\n",
    "print(missing_count[missing_count > 0]) "
   ]
  },
  {
   "cell_type": "code",
   "execution_count": null,
   "metadata": {},
   "outputs": [],
   "source": [
    "# Display unique values in the Mental_Health_Condition column\n",
    "unique_conditions = data['Mental_Health_Condition'].unique()\n",
    "print(unique_conditions)\n"
   ]
  },
  {
   "cell_type": "code",
   "execution_count": 5,
   "metadata": {},
   "outputs": [],
   "source": [
    "# Replace nan values with 'None'\n",
    "data['Mental_Health_Condition'] = data['Mental_Health_Condition'].fillna('None')\n",
    "\n"
   ]
  },
  {
   "cell_type": "code",
   "execution_count": null,
   "metadata": {},
   "outputs": [],
   "source": [
    "# Display unique values in the Physical_Activity column\n",
    "unique_conditions = data['Physical_Activity'].unique()\n",
    "print(unique_conditions)"
   ]
  },
  {
   "cell_type": "code",
   "execution_count": 7,
   "metadata": {},
   "outputs": [],
   "source": [
    "# Replace nan values with 'None'\n",
    "data['Physical_Activity'] = data['Physical_Activity'].fillna('None')"
   ]
  },
  {
   "cell_type": "code",
   "execution_count": null,
   "metadata": {},
   "outputs": [],
   "source": [
    "# Count unique occurrences for each mental health condition\n",
    "mental_health_unique_counts = data.groupby('Mental_Health_Condition')['Employee_ID'].nunique().reset_index()\n",
    "mental_health_unique_counts.columns = ['Mental_Health_Condition', 'Unique_Employee_Count']\n",
    "\n",
    "# Count unique occurrences for each physical activity status\n",
    "physical_activity_unique_counts = data.groupby('Physical_Activity')['Employee_ID'].nunique().reset_index()\n",
    "physical_activity_unique_counts.columns = ['Physical_Activity', 'Unique_Employee_Count']\n",
    "\n",
    "# Display results\n",
    "print(\"Unique counts for Mental Health Conditions:\")\n",
    "print(mental_health_unique_counts)\n",
    "\n",
    "print(\"\\nUnique counts for Physical Activity:\")\n",
    "print(physical_activity_unique_counts)\n"
   ]
  },
  {
   "cell_type": "code",
   "execution_count": null,
   "metadata": {},
   "outputs": [],
   "source": [
    "# Check for missing values\n",
    "print(data.isnull().sum())"
   ]
  },
  {
   "cell_type": "code",
   "execution_count": null,
   "metadata": {},
   "outputs": [],
   "source": [
    "# Check for duplicates\n",
    "duplicates = data.duplicated().sum()\n",
    "print(f\"Number of duplicate records: {duplicates}\")"
   ]
  },
  {
   "cell_type": "code",
   "execution_count": 11,
   "metadata": {},
   "outputs": [],
   "source": [
    "# Create a cleaned DataFrame\n",
    "data_cleaned = data.copy()\n",
    "\n",
    "# Reset index\n",
    "data_cleaned.reset_index(drop=True, inplace=True)"
   ]
  },
  {
   "cell_type": "code",
   "execution_count": null,
   "metadata": {},
   "outputs": [],
   "source": [
    "# Summary statistics for numerical columns\n",
    "summary_stats = data_cleaned.describe()\n",
    "print(summary_stats)\n",
    "\n",
    "# Summary statistics for categorical columns\n",
    "categorical_summary = data_cleaned.describe(include='object')\n",
    "print(categorical_summary)\n"
   ]
  },
  {
   "cell_type": "code",
   "execution_count": null,
   "metadata": {},
   "outputs": [],
   "source": [
    "# Display shape and data types\n",
    "print(f\"Shape of the dataset: {data_cleaned.shape}\")\n",
    "print(data_cleaned.dtypes)\n",
    "\n",
    "# Display the first few rows\n",
    "print(data_cleaned.head())\n"
   ]
  }
 ],
 "metadata": {
  "kernelspec": {
   "display_name": "base",
   "language": "python",
   "name": "python3"
  },
  "language_info": {
   "codemirror_mode": {
    "name": "ipython",
    "version": 3
   },
   "file_extension": ".py",
   "mimetype": "text/x-python",
   "name": "python",
   "nbconvert_exporter": "python",
   "pygments_lexer": "ipython3",
   "version": "3.12.4"
  }
 },
 "nbformat": 4,
 "nbformat_minor": 2
}
