{
 "cells": [
  {
   "cell_type": "code",
   "execution_count": 22,
   "metadata": {},
   "outputs": [
    {
     "name": "stdout",
     "output_type": "stream",
     "text": [
      "Data loaded successfully!\n"
     ]
    }
   ],
   "source": [
    "import pandas as pd\n",
    "from pymongo import MongoClient\n",
    "import seaborn as sns\n",
    "import matplotlib.pyplot as plt\n",
    "\n",
    "\n",
    "\n",
    "# Load the dataset\n",
    "data = pd.read_csv('Resources/Impact_of_Remote_Work_on_Mental_Health.csv')  # Update with your dataset path\n",
    "\n",
    "# Connect to MongoDB\n",
    "client = MongoClient('mongodb://localhost:27017/')\n",
    "db = client['remote_work_db']  # Create a new database\n",
    "collection = db['mental_health']  # Create a new collection\n",
    "\n",
    "# Insert data into MongoDB\n",
    "collection.insert_many(data.to_dict('records'))\n",
    "\n",
    "print(\"Data loaded successfully!\")\n"
   ]
  },
  {
   "cell_type": "code",
   "execution_count": 23,
   "metadata": {},
   "outputs": [
    {
     "name": "stdout",
     "output_type": "stream",
     "text": [
      "<class 'pandas.core.frame.DataFrame'>\n",
      "RangeIndex: 10000 entries, 0 to 9999\n",
      "Data columns (total 21 columns):\n",
      " #   Column                             Non-Null Count  Dtype \n",
      "---  ------                             --------------  ----- \n",
      " 0   _id                                10000 non-null  object\n",
      " 1   Employee_ID                        10000 non-null  object\n",
      " 2   Age                                10000 non-null  int64 \n",
      " 3   Gender                             10000 non-null  object\n",
      " 4   Job_Role                           10000 non-null  object\n",
      " 5   Industry                           10000 non-null  object\n",
      " 6   Years_of_Experience                10000 non-null  int64 \n",
      " 7   Work_Location                      10000 non-null  object\n",
      " 8   Hours_Worked_Per_Week              10000 non-null  int64 \n",
      " 9   Number_of_Virtual_Meetings         10000 non-null  int64 \n",
      " 10  Work_Life_Balance_Rating           10000 non-null  int64 \n",
      " 11  Stress_Level                       10000 non-null  object\n",
      " 12  Mental_Health_Condition            7608 non-null   object\n",
      " 13  Access_to_Mental_Health_Resources  10000 non-null  object\n",
      " 14  Productivity_Change                10000 non-null  object\n",
      " 15  Social_Isolation_Rating            10000 non-null  int64 \n",
      " 16  Satisfaction_with_Remote_Work      10000 non-null  object\n",
      " 17  Company_Support_for_Remote_Work    10000 non-null  int64 \n",
      " 18  Physical_Activity                  6742 non-null   object\n",
      " 19  Sleep_Quality                      10000 non-null  object\n",
      " 20  Region                             10000 non-null  object\n",
      "dtypes: int64(7), object(14)\n",
      "memory usage: 1.6+ MB\n",
      "None\n"
     ]
    }
   ],
   "source": [
    "# Retrieve data from MongoDB\n",
    "data = pd.DataFrame(list(collection.find()))\n",
    "\n",
    "# Display initial data info\n",
    "print(data.info())"
   ]
  },
  {
   "cell_type": "code",
   "execution_count": 24,
   "metadata": {},
   "outputs": [
    {
     "name": "stdout",
     "output_type": "stream",
     "text": [
      "_id                                     0\n",
      "Employee_ID                             0\n",
      "Age                                     0\n",
      "Gender                                  0\n",
      "Job_Role                                0\n",
      "Industry                                0\n",
      "Years_of_Experience                     0\n",
      "Work_Location                           0\n",
      "Hours_Worked_Per_Week                   0\n",
      "Number_of_Virtual_Meetings              0\n",
      "Work_Life_Balance_Rating                0\n",
      "Stress_Level                            0\n",
      "Mental_Health_Condition              2392\n",
      "Access_to_Mental_Health_Resources       0\n",
      "Productivity_Change                     0\n",
      "Social_Isolation_Rating                 0\n",
      "Satisfaction_with_Remote_Work           0\n",
      "Company_Support_for_Remote_Work         0\n",
      "Physical_Activity                    3258\n",
      "Sleep_Quality                           0\n",
      "Region                                  0\n",
      "dtype: int64\n"
     ]
    }
   ],
   "source": [
    "# Check for missing values\n",
    "print(data.isnull().sum())"
   ]
  },
  {
   "cell_type": "code",
   "execution_count": 27,
   "metadata": {},
   "outputs": [],
   "source": [
    "# Remove all rows with any missing values\n",
    "data_cleaned = data.dropna()"
   ]
  },
  {
   "cell_type": "code",
   "execution_count": 28,
   "metadata": {},
   "outputs": [
    {
     "name": "stdout",
     "output_type": "stream",
     "text": [
      "Number of duplicate records: 0\n"
     ]
    }
   ],
   "source": [
    "# Check for duplicates\n",
    "duplicates = data_cleaned.duplicated().sum()\n",
    "print(f\"Number of duplicate records: {duplicates}\")"
   ]
  },
  {
   "cell_type": "code",
   "execution_count": 20,
   "metadata": {},
   "outputs": [
    {
     "data": {
      "text/html": [
       "<div>\n",
       "<style scoped>\n",
       "    .dataframe tbody tr th:only-of-type {\n",
       "        vertical-align: middle;\n",
       "    }\n",
       "\n",
       "    .dataframe tbody tr th {\n",
       "        vertical-align: top;\n",
       "    }\n",
       "\n",
       "    .dataframe thead th {\n",
       "        text-align: right;\n",
       "    }\n",
       "</style>\n",
       "<table border=\"1\" class=\"dataframe\">\n",
       "  <thead>\n",
       "    <tr style=\"text-align: right;\">\n",
       "      <th></th>\n",
       "      <th>Mental_Health_Condition</th>\n",
       "      <th>Count</th>\n",
       "    </tr>\n",
       "  </thead>\n",
       "  <tbody>\n",
       "    <tr>\n",
       "      <th>0</th>\n",
       "      <td>Burnout</td>\n",
       "      <td>1280</td>\n",
       "    </tr>\n",
       "    <tr>\n",
       "      <th>1</th>\n",
       "      <td>Anxiety</td>\n",
       "      <td>1278</td>\n",
       "    </tr>\n",
       "    <tr>\n",
       "      <th>2</th>\n",
       "      <td>Depression</td>\n",
       "      <td>1246</td>\n",
       "    </tr>\n",
       "    <tr>\n",
       "      <th>3</th>\n",
       "      <td>Unknown</td>\n",
       "      <td>1196</td>\n",
       "    </tr>\n",
       "  </tbody>\n",
       "</table>\n",
       "</div>"
      ],
      "text/plain": [
       "  Mental_Health_Condition  Count\n",
       "0                 Burnout   1280\n",
       "1                 Anxiety   1278\n",
       "2              Depression   1246\n",
       "3                 Unknown   1196"
      ]
     },
     "execution_count": 20,
     "metadata": {},
     "output_type": "execute_result"
    }
   ],
   "source": [
    "# Count occurrences of each mental health condition\n",
    "mental_health_counts = data_cleaned['Mental_Health_Condition'].value_counts().reset_index()\n",
    "mental_health_counts.columns = ['Mental_Health_Condition', 'Count']\n",
    "mental_health_counts\n"
   ]
  }
 ],
 "metadata": {
  "kernelspec": {
   "display_name": "base",
   "language": "python",
   "name": "python3"
  },
  "language_info": {
   "codemirror_mode": {
    "name": "ipython",
    "version": 3
   },
   "file_extension": ".py",
   "mimetype": "text/x-python",
   "name": "python",
   "nbconvert_exporter": "python",
   "pygments_lexer": "ipython3",
   "version": "3.12.4"
  }
 },
 "nbformat": 4,
 "nbformat_minor": 2
}
