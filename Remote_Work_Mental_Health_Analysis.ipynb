{
 "cells": [
  {
   "cell_type": "code",
   "execution_count": 1,
   "metadata": {},
   "outputs": [
    {
     "name": "stdout",
     "output_type": "stream",
     "text": [
      "Data loaded successfully!\n"
     ]
    }
   ],
   "source": [
    "import pandas as pd\n",
    "from pymongo import MongoClient\n",
    "import seaborn as sns\n",
    "import matplotlib.pyplot as plt\n",
    "\n",
    "\n",
    "\n",
    "# Load the dataset\n",
    "data = pd.read_csv('Resources/Impact_of_Remote_Work_on_Mental_Health.csv')  # Update with your dataset path\n",
    "\n",
    "# Connect to MongoDB\n",
    "client = MongoClient('mongodb://localhost:27017/')\n",
    "db = client['remote_work_db']  # Create a new database\n",
    "collection = db['mental_health']  # Create a new collection\n",
    "\n",
    "# Insert data into MongoDB\n",
    "collection.insert_many(data.to_dict('records'))\n",
    "\n",
    "print(\"Data loaded successfully!\")\n"
   ]
  },
  {
   "cell_type": "code",
   "execution_count": 2,
   "metadata": {},
   "outputs": [
    {
     "name": "stdout",
     "output_type": "stream",
     "text": [
      "<class 'pandas.core.frame.DataFrame'>\n",
      "RangeIndex: 15000 entries, 0 to 14999\n",
      "Data columns (total 21 columns):\n",
      " #   Column                             Non-Null Count  Dtype \n",
      "---  ------                             --------------  ----- \n",
      " 0   _id                                15000 non-null  object\n",
      " 1   Employee_ID                        15000 non-null  object\n",
      " 2   Age                                15000 non-null  int64 \n",
      " 3   Gender                             15000 non-null  object\n",
      " 4   Job_Role                           15000 non-null  object\n",
      " 5   Industry                           15000 non-null  object\n",
      " 6   Years_of_Experience                15000 non-null  int64 \n",
      " 7   Work_Location                      15000 non-null  object\n",
      " 8   Hours_Worked_Per_Week              15000 non-null  int64 \n",
      " 9   Number_of_Virtual_Meetings         15000 non-null  int64 \n",
      " 10  Work_Life_Balance_Rating           15000 non-null  int64 \n",
      " 11  Stress_Level                       15000 non-null  object\n",
      " 12  Mental_Health_Condition            11412 non-null  object\n",
      " 13  Access_to_Mental_Health_Resources  15000 non-null  object\n",
      " 14  Productivity_Change                15000 non-null  object\n",
      " 15  Social_Isolation_Rating            15000 non-null  int64 \n",
      " 16  Satisfaction_with_Remote_Work      15000 non-null  object\n",
      " 17  Company_Support_for_Remote_Work    15000 non-null  int64 \n",
      " 18  Physical_Activity                  10113 non-null  object\n",
      " 19  Sleep_Quality                      15000 non-null  object\n",
      " 20  Region                             15000 non-null  object\n",
      "dtypes: int64(7), object(14)\n",
      "memory usage: 2.4+ MB\n",
      "None\n"
     ]
    }
   ],
   "source": [
    "# Retrieve data from MongoDB\n",
    "data = pd.DataFrame(list(collection.find()))\n",
    "\n",
    "# Display initial data info\n",
    "print(data.info())"
   ]
  },
  {
   "cell_type": "code",
   "execution_count": 4,
   "metadata": {},
   "outputs": [
    {
     "name": "stdout",
     "output_type": "stream",
     "text": [
      "Mental_Health_Condition    3588\n",
      "Physical_Activity          4887\n",
      "dtype: int64\n"
     ]
    }
   ],
   "source": [
    "missing_count = data.isnull().sum()\n",
    "print(missing_count[missing_count > 0]) "
   ]
  },
  {
   "cell_type": "code",
   "execution_count": 10,
   "metadata": {},
   "outputs": [
    {
     "name": "stdout",
     "output_type": "stream",
     "text": [
      "['Depression' 'Anxiety' nan 'Burnout']\n"
     ]
    }
   ],
   "source": [
    "# Display unique values in the Mental_Health_Condition column\n",
    "unique_conditions = data['Mental_Health_Condition'].unique()\n",
    "print(unique_conditions)\n"
   ]
  },
  {
   "cell_type": "code",
   "execution_count": 17,
   "metadata": {},
   "outputs": [],
   "source": [
    "# Replace nan values with 'None'\n",
    "data['Mental_Health_Condition'] = data['Mental_Health_Condition'].fillna('None')\n",
    "\n"
   ]
  },
  {
   "cell_type": "code",
   "execution_count": 11,
   "metadata": {},
   "outputs": [
    {
     "name": "stdout",
     "output_type": "stream",
     "text": [
      "['Weekly' nan 'Daily']\n"
     ]
    }
   ],
   "source": [
    "# Display unique values in the Physical_Activity column\n",
    "unique_conditions = data['Physical_Activity'].unique()\n",
    "print(unique_conditions)"
   ]
  },
  {
   "cell_type": "code",
   "execution_count": 18,
   "metadata": {},
   "outputs": [],
   "source": [
    "# Replace nan values with 'None'\n",
    "data['Physical_Activity'] = data['Physical_Activity'].fillna('None')"
   ]
  },
  {
   "cell_type": "code",
   "execution_count": 19,
   "metadata": {},
   "outputs": [
    {
     "name": "stdout",
     "output_type": "stream",
     "text": [
      "Unique counts for Mental Health Conditions:\n",
      "  Mental_Health_Condition  Unique_Employee_Count\n",
      "0                 Anxiety                   1278\n",
      "1                 Burnout                   1280\n",
      "2              Depression                   1246\n",
      "3                    None                   1196\n",
      "\n",
      "Unique counts for Physical Activity:\n",
      "  Physical_Activity  Unique_Employee_Count\n",
      "0             Daily                   1616\n",
      "1              None                   1629\n",
      "2            Weekly                   1755\n"
     ]
    }
   ],
   "source": [
    "# Count unique occurrences for each mental health condition\n",
    "mental_health_unique_counts = data.groupby('Mental_Health_Condition')['Employee_ID'].nunique().reset_index()\n",
    "mental_health_unique_counts.columns = ['Mental_Health_Condition', 'Unique_Employee_Count']\n",
    "\n",
    "# Count unique occurrences for each physical activity status\n",
    "physical_activity_unique_counts = data.groupby('Physical_Activity')['Employee_ID'].nunique().reset_index()\n",
    "physical_activity_unique_counts.columns = ['Physical_Activity', 'Unique_Employee_Count']\n",
    "\n",
    "# Display results\n",
    "print(\"Unique counts for Mental Health Conditions:\")\n",
    "print(mental_health_unique_counts)\n",
    "\n",
    "print(\"\\nUnique counts for Physical Activity:\")\n",
    "print(physical_activity_unique_counts)\n"
   ]
  },
  {
   "cell_type": "code",
   "execution_count": 20,
   "metadata": {},
   "outputs": [
    {
     "name": "stdout",
     "output_type": "stream",
     "text": [
      "_id                                  0\n",
      "Employee_ID                          0\n",
      "Age                                  0\n",
      "Gender                               0\n",
      "Job_Role                             0\n",
      "Industry                             0\n",
      "Years_of_Experience                  0\n",
      "Work_Location                        0\n",
      "Hours_Worked_Per_Week                0\n",
      "Number_of_Virtual_Meetings           0\n",
      "Work_Life_Balance_Rating             0\n",
      "Stress_Level                         0\n",
      "Mental_Health_Condition              0\n",
      "Access_to_Mental_Health_Resources    0\n",
      "Productivity_Change                  0\n",
      "Social_Isolation_Rating              0\n",
      "Satisfaction_with_Remote_Work        0\n",
      "Company_Support_for_Remote_Work      0\n",
      "Physical_Activity                    0\n",
      "Sleep_Quality                        0\n",
      "Region                               0\n",
      "dtype: int64\n"
     ]
    }
   ],
   "source": [
    "# Check for missing values\n",
    "print(data.isnull().sum())"
   ]
  },
  {
   "cell_type": "code",
   "execution_count": 23,
   "metadata": {},
   "outputs": [
    {
     "name": "stdout",
     "output_type": "stream",
     "text": [
      "Number of duplicate records: 0\n"
     ]
    }
   ],
   "source": [
    "# Check for duplicates\n",
    "duplicates = data.duplicated().sum()\n",
    "print(f\"Number of duplicate records: {duplicates}\")"
   ]
  },
  {
   "cell_type": "code",
   "execution_count": 25,
   "metadata": {},
   "outputs": [],
   "source": [
    "# Create a cleaned DataFrame\n",
    "data_cleaned = data.copy()\n",
    "\n",
    "# Reset index\n",
    "data_cleaned.reset_index(drop=True, inplace=True)"
   ]
  }
 ],
 "metadata": {
  "kernelspec": {
   "display_name": "base",
   "language": "python",
   "name": "python3"
  },
  "language_info": {
   "codemirror_mode": {
    "name": "ipython",
    "version": 3
   },
   "file_extension": ".py",
   "mimetype": "text/x-python",
   "name": "python",
   "nbconvert_exporter": "python",
   "pygments_lexer": "ipython3",
   "version": "3.12.4"
  }
 },
 "nbformat": 4,
 "nbformat_minor": 2
}
